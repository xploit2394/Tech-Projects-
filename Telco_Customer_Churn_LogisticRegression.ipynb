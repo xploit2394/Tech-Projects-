{
  "cells": [
    {
      "cell_type": "markdown",
      "metadata": {
        "id": "view-in-github",
        "colab_type": "text"
      },
      "source": [
        "<a href=\"https://colab.research.google.com/github/xploit2394/Tech-Projects-/blob/main/Telco_Customer_Churn_LogisticRegression.ipynb\" target=\"_parent\"><img src=\"https://colab.research.google.com/assets/colab-badge.svg\" alt=\"Open In Colab\"/></a>"
      ]
    },
    {
      "source": [
        "\n",
        "# IMPORTANT: RUN THIS CELL IN ORDER TO IMPORT YOUR KAGGLE DATA SOURCES\n",
        "# TO THE CORRECT LOCATION (/kaggle/input) IN YOUR NOTEBOOK,\n",
        "# THEN FEEL FREE TO DELETE THIS CELL.\n",
        "# NOTE: THIS NOTEBOOK ENVIRONMENT DIFFERS FROM KAGGLE'S R\n",
        "# ENVIRONMENT SO THERE MAY BE MISSING LIBRARIES USED BY YOUR\n",
        "# NOTEBOOK.\n",
        "\n",
        "DATA_SOURCE_MAPPING = ':https%3A%2F%2Fstorage.googleapis.com%2Fkaggle-data-sets%2F13996%2F18858%2Fbundle%2Farchive.zip%3FX-Goog-Algorithm%3DGOOG4-RSA-SHA256%26X-Goog-Credential%3Dgcp-kaggle-com%2540kaggle-161607.iam.gserviceaccount.com%252F20241012%252Fauto%252Fstorage%252Fgoog4_request%26X-Goog-Date%3D20241012T140509Z%26X-Goog-Expires%3D259200%26X-Goog-SignedHeaders%3Dhost%26X-Goog-Signature%3D3849c7d5573265d66b397001305bdf34693d8af1e7b70cabe308a8b17158c8f33fc0a71e3ba9c736770f7a9d1d1b5f431a7f2cd4aafaa8e6e34b7cf90de4cc99c815c4c752af5f5ac87001821281c82eaf7cb8eff9fa172cceb89e4bb9f46f989ba1673c31c15b8ad68378e637360698f4b1ef87b681c49b419c610f1a0d0c1fb0b9148d9f0808fb2b1022533f3108a262e0057798a57bcacbaa2ccfddcc3b7ed94e1314f71d719f42fe787ff95071f1474248575e32e0538aee4fe9b95148536feb86d16a250d7fc007ee3d3467301494c409b83ee5bf0789831c32cea2ddeaf3603d32aa0a0b532b84e52f0469779985c2f7d3493ca45a05bbadc6d5085e46'\n",
        "\n",
        "KAGGLE_INPUT_PATH = '/kaggle/input'\n",
        "KAGGLE_WORKING_PATH = '/kaggle/working'\n",
        "\n",
        "system(paste0('sudo umount ', '/kaggle/input'))\n",
        "system(paste0('sudo rmdir ', '/kaggle/input'))\n",
        "system(paste0('sudo mkdir -p -- ', KAGGLE_INPUT_PATH), intern=TRUE)\n",
        "system(paste0('sudo chmod 777 ', KAGGLE_INPUT_PATH), intern=TRUE)\n",
        "system(\n",
        "  paste0('sudo ln -sfn ', KAGGLE_INPUT_PATH,' ',file.path('..', 'input')),\n",
        "  intern=TRUE)\n",
        "\n",
        "system(paste0('sudo mkdir -p -- ', KAGGLE_WORKING_PATH), intern=TRUE)\n",
        "system(paste0('sudo chmod 777 ', KAGGLE_WORKING_PATH), intern=TRUE)\n",
        "system(\n",
        "  paste0('sudo ln -sfn ', KAGGLE_WORKING_PATH, ' ', file.path('..', 'working')),\n",
        "  intern=TRUE)\n",
        "\n",
        "data_source_mappings = strsplit(DATA_SOURCE_MAPPING, ',')[[1]]\n",
        "for (data_source_mapping in data_source_mappings) {\n",
        "    path_and_url = strsplit(data_source_mapping, ':')\n",
        "    directory = path_and_url[[1]][1]\n",
        "    download_url = URLdecode(path_and_url[[1]][2])\n",
        "    filename = sub(\"\\\\?.+\", \"\", download_url)\n",
        "    destination_path = file.path(KAGGLE_INPUT_PATH, directory)\n",
        "    print(paste0('Downloading and uncompressing: ', directory))\n",
        "    if (endsWith(filename, '.zip')){\n",
        "      temp = tempfile(fileext = '.zip')\n",
        "      download.file(download_url, temp)\n",
        "      unzip(temp, overwrite = TRUE, exdir = destination_path)\n",
        "      unlink(temp)\n",
        "    }\n",
        "    else{\n",
        "      temp = tempfile(fileext = '.tar')\n",
        "      download.file(download_url, temp)\n",
        "      untar(temp, exdir = destination_path)\n",
        "      unlink(temp)\n",
        "    }\n",
        "    print(paste0('Downloaded and uncompressed: ', directory))\n",
        "}\n",
        "\n",
        "print(paste0('Data source import complete'))\n"
      ],
      "metadata": {
        "id": "eYA8TQApDDe4",
        "outputId": "dd4e9ddb-f8a9-48e5-9bca-da32e084ba1f",
        "colab": {
          "base_uri": "https://localhost:8080/",
          "height": 69
        }
      },
      "cell_type": "code",
      "outputs": [
        {
          "output_type": "display_data",
          "data": {
            "text/html": [],
            "text/markdown": "",
            "text/latex": "",
            "text/plain": [
              "character(0)"
            ]
          },
          "metadata": {}
        },
        {
          "output_type": "display_data",
          "data": {
            "text/html": [],
            "text/markdown": "",
            "text/latex": "",
            "text/plain": [
              "character(0)"
            ]
          },
          "metadata": {}
        },
        {
          "output_type": "display_data",
          "data": {
            "text/html": [],
            "text/markdown": "",
            "text/latex": "",
            "text/plain": [
              "character(0)"
            ]
          },
          "metadata": {}
        },
        {
          "output_type": "display_data",
          "data": {
            "text/html": [],
            "text/markdown": "",
            "text/latex": "",
            "text/plain": [
              "character(0)"
            ]
          },
          "metadata": {}
        },
        {
          "output_type": "display_data",
          "data": {
            "text/html": [],
            "text/markdown": "",
            "text/latex": "",
            "text/plain": [
              "character(0)"
            ]
          },
          "metadata": {}
        },
        {
          "output_type": "display_data",
          "data": {
            "text/html": [],
            "text/markdown": "",
            "text/latex": "",
            "text/plain": [
              "character(0)"
            ]
          },
          "metadata": {}
        },
        {
          "output_type": "stream",
          "name": "stdout",
          "text": [
            "[1] \"Downloading and uncompressing: \"\n",
            "[1] \"Downloaded and uncompressed: \"\n",
            "[1] \"Data source import complete\"\n"
          ]
        }
      ],
      "execution_count": 1
    },
    {
      "metadata": {
        "_uuid": "fd3ebc340c46363e9e52df3135a1d3d8a71c735b",
        "id": "HZH8FB-aDDe9"
      },
      "cell_type": "markdown",
      "source": [
        "**About the Analysis:**\n",
        "The primary purpose of this kernel is to practice and enhance my skills in data analysis.\n",
        "\n",
        "This  analysis focuses on the behavior of telecom customers who are more likely to leave the platform. I intend to find out the most striking behavior of customers through EDA and later on use some of the predictive analytics techniques to determine the customers who are most likely to churn.\n",
        "\n",
        "**About the data:**\n",
        "(As provided in the overview/description)\n",
        "* Customers who left within the last month – the column is called Churn\n",
        "* Services that each customer has signed up for – phone, multiple lines, internet, online security, online backup, device protection, tech support, and streaming TV and movies\n",
        "* Customer account information – how long they’ve been a customer, contract, payment method, paperless billing, monthly charges, and total charges\n",
        "* Demographic info about customers – gender, age range, and if they have partners and dependents"
      ]
    },
    {
      "metadata": {
        "_uuid": "a53bc825193b787fbe12145522ac449773f1774c",
        "_execution_state": "idle",
        "trusted": true,
        "id": "-PGuQ7zBDDfB"
      },
      "cell_type": "code",
      "source": [
        "## Importing packages\n",
        "library(tidyverse)\n",
        "library(MASS)\n",
        "library(car)\n",
        "library(e1071)\n",
        "library(caret)\n",
        "library(cowplot)\n",
        "library(caTools)\n",
        "library(pROC)\n",
        "library(ggcorrplot)\n",
        "\n",
        "list.files(path = \"../input\")"
      ],
      "execution_count": null,
      "outputs": []
    },
    {
      "metadata": {
        "trusted": true,
        "_uuid": "f775a39fbd1950b6b09ea67d02a981543d17d85c",
        "id": "IFZREjhtDDfC"
      },
      "cell_type": "code",
      "source": [
        "telco <- read.csv(\"../input/WA_Fn-UseC_-Telco-Customer-Churn.csv\")"
      ],
      "execution_count": null,
      "outputs": []
    },
    {
      "metadata": {
        "_uuid": "7d521b41941719e15866606f0661707eef8c9b76",
        "id": "s4ArflsyDDfD"
      },
      "cell_type": "markdown",
      "source": [
        "7043 observations with 21 variables."
      ]
    },
    {
      "metadata": {
        "trusted": true,
        "_uuid": "1c976ba5799a66c7fa2b14fe476cbe6d95e36343",
        "id": "EV1MYINoDDfE"
      },
      "cell_type": "code",
      "source": [
        "glimpse(telco)"
      ],
      "execution_count": null,
      "outputs": []
    },
    {
      "metadata": {
        "_uuid": "cb11927490fb29d14f091df61cc6039afe9c18d2",
        "id": "5ffi8oxsDDfF"
      },
      "cell_type": "markdown",
      "source": [
        "**Visualizing NAs in the columns:**"
      ]
    },
    {
      "metadata": {
        "trusted": true,
        "_uuid": "836f31220209cefdca5e5045c1005f96efea2b16",
        "_kg_hide-input": true,
        "id": "KRdYfEYADDfH"
      },
      "cell_type": "code",
      "source": [
        "options(repr.plot.width = 6, repr.plot.height = 4)\n",
        "missing_data <- telco %>% summarise_all(funs(sum(is.na(.))/n()))\n",
        "missing_data <- gather(missing_data, key = \"variables\", value = \"percent_missing\")\n",
        "ggplot(missing_data, aes(x = reorder(variables, percent_missing), y = percent_missing)) +\n",
        "geom_bar(stat = \"identity\", fill = \"red\", aes(color = I('white')), size = 0.3)+\n",
        "xlab('variables')+\n",
        "coord_flip()+\n",
        "theme_bw()"
      ],
      "execution_count": null,
      "outputs": []
    },
    {
      "metadata": {
        "_uuid": "814e022fede805fee8867f7dd230a269ab6ea278",
        "id": "Vr0MVVNFDDfJ"
      },
      "cell_type": "markdown",
      "source": [
        "* There are only 11 missing data in the TotalCharges field, so getting rid of those rows from the dataset.\n",
        "* There are three continuous variables and they are Tenure, MonthlyCharges and TotalCharges. SeniorCitizen is in 'int' form, that can be changed to categorical."
      ]
    },
    {
      "metadata": {
        "trusted": true,
        "_uuid": "ac05368d62e65c732c8ba0136da5adebf1026610",
        "id": "17ZEpVaHDDfK"
      },
      "cell_type": "code",
      "source": [
        "telco <- telco[complete.cases(telco),]\n",
        "\n",
        "telco$SeniorCitizen <- as.factor(ifelse(telco$SeniorCitizen==1, 'YES', 'NO'))"
      ],
      "execution_count": null,
      "outputs": []
    },
    {
      "metadata": {
        "_uuid": "aeff3e6c21de02528d30c74865ed94e2c8d48079",
        "id": "vRA3L2LmDDfL"
      },
      "cell_type": "markdown",
      "source": [
        "**EXPLORATORY DATA ANALYSIS:**"
      ]
    },
    {
      "metadata": {
        "trusted": true,
        "_uuid": "bc14f7f473c19753568faa579440fe65eae3b186",
        "_kg_hide-input": true,
        "id": "Q-FhNjESDDfL"
      },
      "cell_type": "code",
      "source": [
        "theme1 <- theme_bw()+\n",
        "theme(axis.text.x = element_text(angle = 0, hjust = 1, vjust = 0.5),legend.position=\"none\")\n",
        "theme2 <- theme_bw()+\n",
        "theme(axis.text.x = element_text(angle = 90, hjust = 1, vjust = 0.5),legend.position=\"none\")"
      ],
      "execution_count": null,
      "outputs": []
    },
    {
      "metadata": {
        "trusted": true,
        "_uuid": "47946c4fea89503fd1e904e82a021a2805a9d984",
        "id": "WcbmarYSDDfN"
      },
      "cell_type": "code",
      "source": [
        "glimpse(telco)"
      ],
      "execution_count": null,
      "outputs": []
    },
    {
      "metadata": {
        "_uuid": "f233e6f88f5334cf85432e41265d1d11fbe71eb7",
        "id": "rWeWkKGbDDfN"
      },
      "cell_type": "markdown",
      "source": [
        "**VISUALIZING THE CATEGORICAL DATA FIRST WITH RESPECT TO CHURN:**"
      ]
    },
    {
      "metadata": {
        "_uuid": "5f0492ffc7f26e1a6a638c9f04c1304dea18eada",
        "id": "UJ8PUKuoDDfO"
      },
      "cell_type": "markdown",
      "source": [
        "* CHURN columns tells us about the number of Customers who left within the last month.\n",
        "* Around 26% of customers left the platform within the last month."
      ]
    },
    {
      "metadata": {
        "trusted": true,
        "_uuid": "e20b3bf74eb42a90b983b75d0f9be28b40d4a1d6",
        "_kg_hide-input": true,
        "id": "iShrVO38DDfO"
      },
      "cell_type": "code",
      "source": [
        "options(repr.plot.width = 6, repr.plot.height = 4)\n",
        "telco %>%\n",
        "group_by(Churn) %>%\n",
        "summarise(Count = n())%>%\n",
        "mutate(percent = prop.table(Count)*100)%>%\n",
        "ggplot(aes(reorder(Churn, -percent), percent), fill = Churn)+\n",
        "geom_col(fill = c(\"#FC4E07\", \"#E7B800\"))+\n",
        "geom_text(aes(label = sprintf(\"%.2f%%\", percent)), hjust = 0.01,vjust = -0.5, size =3)+\n",
        "theme_bw()+\n",
        "xlab(\"Churn\") +\n",
        "ylab(\"Percent\")+\n",
        "ggtitle(\"Churn Percent\")"
      ],
      "execution_count": null,
      "outputs": []
    },
    {
      "metadata": {
        "_uuid": "2827e95751f0815f67a6fe22d3d047c42ff561bc",
        "id": "sjxF18Q3DDfP"
      },
      "cell_type": "markdown",
      "source": [
        "* **Gender **- The churn percent is almost equal in case of Male and Females\n",
        "* The percent of churn is higher in case of **senior citizens**\n",
        "* Customers with** Partners** and **Dependents** have lower churn rate as compared to those who don't have partners & Dependents."
      ]
    },
    {
      "metadata": {
        "trusted": true,
        "_uuid": "4ec6ba5a5def7fc16c71750bd596e0eacfcb8374",
        "_kg_hide-input": true,
        "id": "GlduavXsDDfP"
      },
      "cell_type": "code",
      "source": [
        "options(repr.plot.width = 12, repr.plot.height = 8)\n",
        "plot_grid(ggplot(telco, aes(x=gender,fill=Churn))+ geom_bar()+ theme1,\n",
        "          ggplot(telco, aes(x=SeniorCitizen,fill=Churn))+ geom_bar(position = 'fill')+theme1,\n",
        "          ggplot(telco, aes(x=Partner,fill=Churn))+ geom_bar(position = 'fill')+theme1,\n",
        "          ggplot(telco, aes(x=Dependents,fill=Churn))+ geom_bar(position = 'fill')+theme1,\n",
        "          ggplot(telco, aes(x=PhoneService,fill=Churn))+ geom_bar(position = 'fill')+theme1,\n",
        "          ggplot(telco, aes(x=MultipleLines,fill=Churn))+ geom_bar(position = 'fill')+theme_bw()+\n",
        "          scale_x_discrete(labels = function(x) str_wrap(x, width = 10)),\n",
        "          align = \"h\")"
      ],
      "execution_count": null,
      "outputs": []
    },
    {
      "metadata": {
        "_uuid": "e6db899eb4ed763b3f5df61341884a69baf1f828",
        "id": "jXegQD2BDDfQ"
      },
      "cell_type": "markdown",
      "source": [
        "* Churn rate is much **higher** in case of **Fiber Optic InternetServices.**\n",
        "* Customers who do not have services like **No OnlineSecurity **, **OnlineBackup** and ** TechSupport** have left the platform in the past month.\n"
      ]
    },
    {
      "metadata": {
        "trusted": true,
        "_uuid": "d051a3af6a69fbe88a957e8c56707a55f7a9c831",
        "_kg_hide-input": true,
        "id": "9dAgsRJ2DDfQ"
      },
      "cell_type": "code",
      "source": [
        "options(repr.plot.width = 12, repr.plot.height = 8)\n",
        "plot_grid(ggplot(telco, aes(x=InternetService,fill=Churn))+ geom_bar(position = 'fill')+ theme1+\n",
        "          scale_x_discrete(labels = function(x) str_wrap(x, width = 10)),\n",
        "          ggplot(telco, aes(x=OnlineSecurity,fill=Churn))+ geom_bar(position = 'fill')+theme1+\n",
        "          scale_x_discrete(labels = function(x) str_wrap(x, width = 10)),\n",
        "          ggplot(telco, aes(x=OnlineBackup,fill=Churn))+ geom_bar(position = 'fill')+theme1+\n",
        "          scale_x_discrete(labels = function(x) str_wrap(x, width = 10)),\n",
        "          ggplot(telco, aes(x=DeviceProtection,fill=Churn))+ geom_bar(position = 'fill')+theme1+\n",
        "          scale_x_discrete(labels = function(x) str_wrap(x, width = 10)),\n",
        "          ggplot(telco, aes(x=TechSupport,fill=Churn))+ geom_bar(position = 'fill')+theme1+\n",
        "          scale_x_discrete(labels = function(x) str_wrap(x, width = 10)),\n",
        "          ggplot(telco, aes(x=StreamingTV,fill=Churn))+ geom_bar(position = 'fill')+theme_bw()+\n",
        "          scale_x_discrete(labels = function(x) str_wrap(x, width = 10)),\n",
        "          align = \"h\")"
      ],
      "execution_count": null,
      "outputs": []
    },
    {
      "metadata": {
        "_uuid": "6f37d7d079c0b98c28b897f814865ce49f9e6d38",
        "id": "7DKVx97IDDfQ"
      },
      "cell_type": "markdown",
      "source": [
        "* A larger percent of Customers with **monthly subscription** have **left** when compared to Customers with one or two year contract.\n",
        "* **Churn** percent is** higher** in case of cutsomers having **paperless billing option**.\n",
        "* Customers who have **ElectronicCheck** PaymentMethod tend to **leave** the platform more when compared to other options.\n"
      ]
    },
    {
      "metadata": {
        "trusted": true,
        "_uuid": "a47bc9d1433318a111a93b21e9bf64cfde010ee5",
        "_kg_hide-input": true,
        "id": "xx7B70AmDDfR"
      },
      "cell_type": "code",
      "source": [
        "plot_grid(ggplot(telco, aes(x=StreamingMovies,fill=Churn))+\n",
        "          geom_bar(position = 'fill')+ theme1+\n",
        "          scale_x_discrete(labels = function(x) str_wrap(x, width = 10)),\n",
        "          ggplot(telco, aes(x=Contract,fill=Churn))+\n",
        "          geom_bar(position = 'fill')+theme1+\n",
        "          scale_x_discrete(labels = function(x) str_wrap(x, width = 10)),\n",
        "          ggplot(telco, aes(x=PaperlessBilling,fill=Churn))+\n",
        "          geom_bar(position = 'fill')+theme1+\n",
        "          scale_x_discrete(labels = function(x) str_wrap(x, width = 10)),\n",
        "          ggplot(telco, aes(x=PaymentMethod,fill=Churn))+\n",
        "          geom_bar(position = 'fill')+theme_bw()+\n",
        "          scale_x_discrete(labels = function(x) str_wrap(x, width = 10)),\n",
        "          align = \"h\")"
      ],
      "execution_count": null,
      "outputs": []
    },
    {
      "metadata": {
        "_uuid": "ff6448f3d7edfda4e54da967c0a1029c30b6a412",
        "id": "DcEUWMXqDDfR"
      },
      "cell_type": "markdown",
      "source": [
        "**Analyzing the three continuous variables w.r.t CHURN:**"
      ]
    },
    {
      "metadata": {
        "_uuid": "03fba69914fd652821c7aca2b1bd9e7908729d35",
        "id": "EG3wPRVMDDfR"
      },
      "cell_type": "markdown",
      "source": [
        "**Tenure:** The median tenure for customers who have left is around 10 months."
      ]
    },
    {
      "metadata": {
        "trusted": true,
        "_uuid": "de9c61a039a8b06b83d06c1ca21adbe7120e77c2",
        "id": "y3dzrEY8DDfR"
      },
      "cell_type": "code",
      "source": [
        "options(repr.plot.width =6, repr.plot.height = 2)\n",
        "ggplot(telco, aes(y= tenure, x = \"\", fill = Churn)) +\n",
        "geom_boxplot()+\n",
        "theme_bw()+\n",
        "xlab(\" \")"
      ],
      "execution_count": null,
      "outputs": []
    },
    {
      "metadata": {
        "_uuid": "8a6abb735e36f95323e37000825ceaedd8a526f3",
        "id": "edur24qXDDfR"
      },
      "cell_type": "markdown",
      "source": [
        "**MonthlyCharges:** Customers who have churned, have high monthly charges. The median is above 75."
      ]
    },
    {
      "metadata": {
        "trusted": true,
        "_uuid": "fb09b825fe5e79ede58be3a56b16e4579321b314",
        "id": "9MVKRXCdDDfR"
      },
      "cell_type": "code",
      "source": [
        "ggplot(telco, aes(y= MonthlyCharges, x = \"\", fill = Churn)) +\n",
        "geom_boxplot()+\n",
        "theme_bw()+\n",
        "xlab(\" \")"
      ],
      "execution_count": null,
      "outputs": []
    },
    {
      "metadata": {
        "_uuid": "45f6eba5691d5da2ff5b0314c1295ca797a1c67b",
        "id": "SawXvZjIDDfS"
      },
      "cell_type": "markdown",
      "source": [
        "**TotalCharges:*** The median Total charges of customers who have churned is low."
      ]
    },
    {
      "metadata": {
        "trusted": true,
        "_uuid": "4bbb68c79ebd1c60bcb3b3ab3c8121fad1e808bf",
        "id": "MDfyQpQVDDfS"
      },
      "cell_type": "code",
      "source": [
        "ggplot(telco, aes(y= TotalCharges, x = \"\", fill = Churn)) +\n",
        "geom_boxplot()+\n",
        "theme_bw()+\n",
        "xlab(\" \")"
      ],
      "execution_count": null,
      "outputs": []
    },
    {
      "metadata": {
        "_uuid": "0c1c63c58e29eb46bbb5886ffec4d6e9bd7a29c6",
        "id": "-3GPsQNjDDfS"
      },
      "cell_type": "markdown",
      "source": [
        "**Checking the correlation between continuous variables**\n",
        "\n",
        "Total Charges has positive correlation with MonthlyCharges and tenure."
      ]
    },
    {
      "metadata": {
        "_kg_hide-input": true,
        "trusted": true,
        "_uuid": "7cdb22b49f7661f384582a429550464d6cc9d192",
        "id": "kXOpJTf-DDfS"
      },
      "cell_type": "code",
      "source": [
        "options(repr.plot.width =6, repr.plot.height = 4)\n",
        "telco_cor <- round(cor(telco[,c(\"tenure\", \"MonthlyCharges\", \"TotalCharges\")]), 1)\n",
        "\n",
        "ggcorrplot(telco_cor,  title = \"Correlation\")+theme(plot.title = element_text(hjust = 0.5))"
      ],
      "execution_count": null,
      "outputs": []
    },
    {
      "metadata": {
        "_uuid": "b6ee708f24adfcdf61d6acdec7d4733688f81f70",
        "id": "AAEkbFIIDDfT"
      },
      "cell_type": "markdown",
      "source": [
        "Checking for **outliers** in the continuous variables, and it seems none of the values are beyond the whiskers here."
      ]
    },
    {
      "metadata": {
        "trusted": true,
        "_uuid": "3f2335b2f9d6fbc3db948d109a0d2edab091728a",
        "id": "EU1KGID9DDfU"
      },
      "cell_type": "code",
      "source": [
        "options(repr.plot.width =4, repr.plot.height = 4)\n",
        "boxplot(telco$tenure)$out"
      ],
      "execution_count": null,
      "outputs": []
    },
    {
      "metadata": {
        "trusted": true,
        "_uuid": "f4dbcf69d65989c5b48711dff8df1eed69fc97a2",
        "id": "rzPWa34cDDfU"
      },
      "cell_type": "code",
      "source": [
        "boxplot(telco$MonthlyCharges)$out\n"
      ],
      "execution_count": null,
      "outputs": []
    },
    {
      "metadata": {
        "trusted": true,
        "_uuid": "ab8f2d22dcb7420d3dabfbca7bb1cda87a42b950",
        "id": "BwbhJtW6DDfU"
      },
      "cell_type": "code",
      "source": [
        "boxplot(telco$TotalCharges)$out"
      ],
      "execution_count": null,
      "outputs": []
    },
    {
      "metadata": {
        "_uuid": "e9f5bcc26deb62fe5a3865fa526b279bdfabd129",
        "id": "mcXrcPX2DDfV"
      },
      "cell_type": "markdown",
      "source": [
        "**DATA PREPARATION: **\n",
        "* Cleaning the Categorical features\n",
        "* Standardising Continuous features\n",
        "* Creating derived features\n",
        "* Creating dummy variables for factor variables\n",
        "* Creating the final dataset\n",
        "* Splitting the data into train and validation set."
      ]
    },
    {
      "metadata": {
        "_uuid": "0a363f73573d6426c2891e4792e78e8d1061c0ef",
        "id": "EEjMYALfDDfV"
      },
      "cell_type": "markdown",
      "source": [
        "*Cleaning the Categorical features*\n",
        "\n",
        "From the EDA above, we know that there are some categorical features that have 'No' and 'No Internet Service' or 'No Phone Service' as a category, we can make them as 'No' and clean these features."
      ]
    },
    {
      "metadata": {
        "trusted": true,
        "_uuid": "1b976ff6d06fc7aac306639f01a580e8c6bc01dd",
        "id": "JvMxSPP2DDfW"
      },
      "cell_type": "code",
      "source": [
        "telco <- data.frame(lapply(telco, function(x) {\n",
        "                  gsub(\"No internet service\", \"No\", x)}))\n",
        "\n",
        "telco <- data.frame(lapply(telco, function(x) {\n",
        "                  gsub(\"No phone service\", \"No\", x)}))"
      ],
      "execution_count": null,
      "outputs": []
    },
    {
      "metadata": {
        "_uuid": "52395b3cce9180028640d022f7e2b55504c822ea",
        "id": "EeMki-y1DDfW"
      },
      "cell_type": "markdown",
      "source": [
        "*Standardising Continuous features*"
      ]
    },
    {
      "metadata": {
        "trusted": true,
        "_uuid": "9940103adf2d796c37e9d1927c330ef375ec396f",
        "id": "mjEl-pp6DDfd"
      },
      "cell_type": "code",
      "source": [
        "num_columns <- c(\"tenure\", \"MonthlyCharges\", \"TotalCharges\")\n",
        "telco[num_columns] <- sapply(telco[num_columns], as.numeric)\n",
        "\n",
        "telco_int <- telco[,c(\"tenure\", \"MonthlyCharges\", \"TotalCharges\")]\n",
        "telco_int <- data.frame(scale(telco_int))\n"
      ],
      "execution_count": null,
      "outputs": []
    },
    {
      "metadata": {
        "_uuid": "a5ce44d4a587ebab3aa398b260ce3a135679b8c4",
        "id": "5znN4SI-DDfd"
      },
      "cell_type": "markdown",
      "source": [
        "*Creating derived features*\n",
        "\n",
        "I am trying to create a derived feature from tenure, where i have made different bins of tenure(which is in months) such as '0-1 year', '2-3 years', '3-4 years' etc."
      ]
    },
    {
      "metadata": {
        "trusted": true,
        "_uuid": "2b506846d01fe3ba85c593e79ddf7ffbbbc25248",
        "id": "UJa2vwmuDDfd"
      },
      "cell_type": "code",
      "source": [
        "#max(telco$tenure)\n",
        "#min(telco$tenure)\n",
        "telco <- mutate(telco, tenure_bin = tenure)\n",
        "\n",
        "telco$tenure_bin[telco$tenure_bin >=0 & telco$tenure_bin <= 12] <- '0-1 year'\n",
        "telco$tenure_bin[telco$tenure_bin > 12 & telco$tenure_bin <= 24] <- '1-2 years'\n",
        "telco$tenure_bin[telco$tenure_bin > 24 & telco$tenure_bin <= 36] <- '2-3 years'\n",
        "telco$tenure_bin[telco$tenure_bin > 36 & telco$tenure_bin <= 48] <- '3-4 years'\n",
        "telco$tenure_bin[telco$tenure_bin > 48 & telco$tenure_bin <= 60] <- '4-5 years'\n",
        "telco$tenure_bin[telco$tenure_bin > 60 & telco$tenure_bin <= 72] <- '5-6 years'\n",
        "\n",
        "telco$tenure_bin <- as.factor(telco$tenure_bin)"
      ],
      "execution_count": null,
      "outputs": []
    },
    {
      "metadata": {
        "_uuid": "8bff62efa596ff378b78dfdeab0cd6ddd42759ee",
        "id": "sgWreo5lDDfe"
      },
      "cell_type": "markdown",
      "source": [
        "After checking the distribution of data in each tenure bin, we found that maximum number of customers have a tenure of either 0-1 years and followed by 5-6 years."
      ]
    },
    {
      "metadata": {
        "trusted": true,
        "_uuid": "6f5b8437cb6d19e485d8b4e8fec136221191a7f4",
        "id": "9Hb0ZVupDDfe"
      },
      "cell_type": "code",
      "source": [
        "options(repr.plot.width =6, repr.plot.height = 3)\n",
        "ggplot(telco, aes(tenure_bin, fill = tenure_bin)) + geom_bar()+ theme1"
      ],
      "execution_count": null,
      "outputs": []
    },
    {
      "metadata": {
        "_uuid": "a33369dd11ca91ed5969c79cdb42f42510a0c128",
        "id": "eUbhIg9_DDfe"
      },
      "cell_type": "markdown",
      "source": [
        "*Creating Dummy Variables*"
      ]
    },
    {
      "metadata": {
        "trusted": true,
        "_uuid": "d872699c93b0ebbeba024d9be51046e264899ef5",
        "id": "IB1zWgXMDDff"
      },
      "cell_type": "code",
      "source": [
        "telco_cat <- telco[,-c(1,6,19,20)]\n",
        "\n",
        "#Creating Dummy Variables\n",
        "dummy<- data.frame(sapply(telco_cat,function(x) data.frame(model.matrix(~x-1,data =telco_cat))[,-1]))\n",
        "\n",
        "head(dummy)"
      ],
      "execution_count": null,
      "outputs": []
    },
    {
      "metadata": {
        "_uuid": "6e2dc9ef92c7e6dab05d0fa601748c5a45c724b5",
        "id": "vhcp_wHrDDff"
      },
      "cell_type": "markdown",
      "source": [
        "*Creating the final dataset by combining the numeric and dummy data frames.*"
      ]
    },
    {
      "metadata": {
        "trusted": true,
        "_uuid": "ee89feeddd432493e9e449c6a186ed6b5d700107",
        "id": "zUAar5QNDDfg"
      },
      "cell_type": "code",
      "source": [
        "#Combining the data\n",
        "telco_final <- cbind(telco_int,dummy)\n",
        "head(telco_final)"
      ],
      "execution_count": null,
      "outputs": []
    },
    {
      "metadata": {
        "_uuid": "1c38e5451ae2d124d7cc7308a6273c17e0dd2821",
        "id": "U3WcYsECDDfg"
      },
      "cell_type": "markdown",
      "source": [
        "*Splitting the data into train and validation data.*"
      ]
    },
    {
      "metadata": {
        "trusted": true,
        "_uuid": "de6a1aaeac925f923bdd104954262d8b861a74f5",
        "id": "neXwQY4ADDfg"
      },
      "cell_type": "code",
      "source": [
        "#Splitting the data\n",
        "set.seed(123)\n",
        "indices = sample.split(telco_final$Churn, SplitRatio = 0.7)\n",
        "train = telco_final[indices,]\n",
        "validation = telco_final[!(indices),]"
      ],
      "execution_count": null,
      "outputs": []
    },
    {
      "metadata": {
        "_uuid": "eec55cf7bf1acc29e1798913e9248ba5e50dc067",
        "id": "th1PVKnCDDfh"
      },
      "cell_type": "markdown",
      "source": [
        "**MODEL BUILDING 1**\n",
        "\n",
        "**Starting with Logistic Regression**"
      ]
    },
    {
      "metadata": {
        "trusted": true,
        "_uuid": "f07733a5f45fc3d2a6578c7422551e0faa8b0316",
        "id": "ZqCOPAZlDDfh"
      },
      "cell_type": "code",
      "source": [
        "#Build the first model using all variables\n",
        "model_1 = glm(Churn ~ ., data = train, family = \"binomial\")\n",
        "summary(model_1)"
      ],
      "execution_count": null,
      "outputs": []
    },
    {
      "metadata": {
        "_uuid": "7441ca227f98abc6249bcba6495c8535403d5c74",
        "id": "QIj-xu3jDDfh"
      },
      "cell_type": "markdown",
      "source": [
        "Using stepAIC for variable selection, which is a iterative process of adding or removing variables, in order to get a subset of variables that gives the best performing model."
      ]
    },
    {
      "metadata": {
        "trusted": true,
        "_uuid": "cfafb2d210406653fa2cd3835405e7a69ff72a9d",
        "_kg_hide-output": true,
        "id": "bA8ljUffDDfh"
      },
      "cell_type": "code",
      "source": [
        "model_2<- stepAIC(model_1, direction=\"both\")"
      ],
      "execution_count": null,
      "outputs": []
    },
    {
      "metadata": {
        "trusted": true,
        "_uuid": "eea55841e5b6b36bfa7944b30639229a7f6713ba",
        "id": "Og4t3e4dDDfi"
      },
      "cell_type": "code",
      "source": [
        "summary(model_2)"
      ],
      "execution_count": null,
      "outputs": []
    },
    {
      "metadata": {
        "_uuid": "1df3b65d0e7a7e53923f8e37fac549e3703884b9",
        "id": "P-xFO4m8DDfi"
      },
      "cell_type": "markdown",
      "source": [
        "We can use variance inflation factor (vif) to get rid of redundant predictors or the variables that have high multicollinearity between them. Multicollinearity exists when two or more predictor variables are highly related to each other and then it becomes difficult to understand the impact of an independent variable on the dependent variable.\n",
        "\n",
        "The Variance Inflation Factor(VIF) is used to measure the multicollinearity between predictor variables in a model. A predictor having a VIF of 2 or less is generally considered safe and it can be assumed that it is not correlated with other predictor variables. Higher the VIF, greater is the correlation of the predictor variable w.r.t other predictor variables. However, Predictors with high VIF may have high p-value(or highly significant), hence, we need to see the significance of the Predictor variable before removing it from our model.  "
      ]
    },
    {
      "metadata": {
        "trusted": true,
        "_uuid": "060ac4e728e43ac135b0321251cf7ec628a23489",
        "id": "PFALD-s5DDfi"
      },
      "cell_type": "code",
      "source": [
        "vif(model_2)"
      ],
      "execution_count": null,
      "outputs": []
    },
    {
      "metadata": {
        "trusted": true,
        "_uuid": "a10abee9d969ce41660c16f1c0c199e7a1dfbeec",
        "id": "B-Nad6cqDDfj"
      },
      "cell_type": "code",
      "source": [
        "#Removing DeviceProtection due to high p-value\n",
        "model_3 <-glm(formula = Churn ~ tenure + MonthlyCharges + SeniorCitizen +\n",
        "    Partner + InternetService.xFiber.optic + InternetService.xNo +\n",
        "    OnlineSecurity + OnlineBackup + TechSupport +\n",
        "    StreamingTV + Contract.xOne.year + Contract.xTwo.year + PaperlessBilling +\n",
        "    PaymentMethod.xElectronic.check + tenure_bin.x1.2.years +\n",
        "    tenure_bin.x5.6.years, family = \"binomial\", data = train)\n",
        "summary(model_3)\n",
        "vif(model_3)"
      ],
      "execution_count": null,
      "outputs": []
    },
    {
      "metadata": {
        "trusted": true,
        "_uuid": "f262af24933446f7505b7985d5beae548c29c5aa",
        "id": "jMYKc4xyDDfj"
      },
      "cell_type": "code",
      "source": [
        "#Removing StreamingTV  as it has high p-value\n",
        "\n",
        "model_4 <- glm(formula = Churn ~ tenure + MonthlyCharges + SeniorCitizen +\n",
        "    Partner + InternetService.xFiber.optic + InternetService.xNo +\n",
        "    OnlineSecurity + OnlineBackup + TechSupport +\n",
        "    Contract.xOne.year + Contract.xTwo.year + PaperlessBilling +\n",
        "    PaymentMethod.xElectronic.check + tenure_bin.x1.2.years +\n",
        "    tenure_bin.x5.6.years, family = \"binomial\", data = train)\n",
        "\n",
        "summary(model_4)\n",
        "vif(model_4)"
      ],
      "execution_count": null,
      "outputs": []
    },
    {
      "metadata": {
        "_uuid": "4d84ba3e0c4c4c77933271c0472cb448731bc04f",
        "id": "XTZfYxolDDfj"
      },
      "cell_type": "markdown",
      "source": [
        "Model_3 all has significant variables, so let's just use it for prediction first"
      ]
    },
    {
      "metadata": {
        "trusted": true,
        "_uuid": "5825bf001b8943f3e126d2d1dfa41916c55e0277",
        "id": "XAqxF2OTDDfj"
      },
      "cell_type": "code",
      "source": [
        "final_model <- model_3"
      ],
      "execution_count": null,
      "outputs": []
    },
    {
      "metadata": {
        "_uuid": "85320d3d43c3e7addd5defd0b559d735c7222687",
        "id": "Y2PWIWkODDfk"
      },
      "cell_type": "markdown",
      "source": [
        "**Model Evaluation using the validation data:**"
      ]
    },
    {
      "metadata": {
        "trusted": true,
        "_uuid": "89250712309cb0a939570de00f744228ab417590",
        "_kg_hide-input": false,
        "id": "h35Oi9CdDDfk"
      },
      "cell_type": "code",
      "source": [
        "pred <- predict(final_model, type = \"response\", newdata = validation[,-24])\n",
        "summary(pred)\n",
        "validation$prob <- pred\n",
        "\n",
        "# Using probability cutoff of 50%.\n",
        "\n",
        "pred_churn <- factor(ifelse(pred >= 0.50, \"Yes\", \"No\"))\n",
        "actual_churn <- factor(ifelse(validation$Churn==1,\"Yes\",\"No\"))\n",
        "table(actual_churn,pred_churn)"
      ],
      "execution_count": null,
      "outputs": []
    },
    {
      "metadata": {
        "_uuid": "fba4b0225a23ab8fb5ef72fa9727d7d1c0f759db",
        "id": "rq9ARlepDDfk"
      },
      "cell_type": "markdown",
      "source": [
        "Let's find the Accuracy, Sensitivity, Specificity using 50% cutoff"
      ]
    },
    {
      "metadata": {
        "_kg_hide-input": true,
        "trusted": true,
        "_uuid": "ae760ff0000eb7e51b70bd2e9d114b987c0f0751",
        "id": "XpYMppytDDfk"
      },
      "cell_type": "code",
      "source": [
        "cutoff_churn <- factor(ifelse(pred >=0.50, \"Yes\", \"No\"))\n",
        "conf_final <- confusionMatrix(cutoff_churn, actual_churn, positive = \"Yes\")\n",
        "accuracy <- conf_final$overall[1]\n",
        "sensitivity <- conf_final$byClass[1]\n",
        "specificity <- conf_final$byClass[2]\n",
        "accuracy\n",
        "sensitivity\n",
        "specificity"
      ],
      "execution_count": null,
      "outputs": []
    },
    {
      "metadata": {
        "_uuid": "333fc4f0d5fdf206c06606515072f14da263f99e",
        "id": "XP29cTC4DDfl"
      },
      "cell_type": "markdown",
      "source": [
        "As we can see above, when we are using a cutoff of 0.50, we are getting a good accuracy and specificity, but the sensitivity is very less. Hence, we need to find the optimal probalility cutoff which will give maximum accuracy, sensitivity and specificity"
      ]
    },
    {
      "metadata": {
        "trusted": true,
        "_uuid": "b533455e634ae9fce88e958d076381334ca82e09",
        "_kg_hide-input": true,
        "id": "Eb8_nsepDDfl"
      },
      "cell_type": "code",
      "source": [
        "perform_fn <- function(cutoff)\n",
        "{\n",
        "  predicted_churn <- factor(ifelse(pred >= cutoff, \"Yes\", \"No\"))\n",
        "  conf <- confusionMatrix(predicted_churn, actual_churn, positive = \"Yes\")\n",
        "  accuray <- conf$overall[1]\n",
        "  sensitivity <- conf$byClass[1]\n",
        "  specificity <- conf$byClass[2]\n",
        "  out <- t(as.matrix(c(sensitivity, specificity, accuray)))\n",
        "  colnames(out) <- c(\"sensitivity\", \"specificity\", \"accuracy\")\n",
        "  return(out)\n",
        "}"
      ],
      "execution_count": null,
      "outputs": []
    },
    {
      "metadata": {
        "_kg_hide-input": true,
        "trusted": true,
        "_uuid": "627c7a17d1b7f38c4b07ce04600739ce7841d8f9",
        "id": "MSI_tnQ6DDfl"
      },
      "cell_type": "code",
      "source": [
        "options(repr.plot.width =8, repr.plot.height =6)\n",
        "summary(pred)\n",
        "s = seq(0.01,0.80,length=100)\n",
        "OUT = matrix(0,100,3)\n",
        "\n",
        "for(i in 1:100)\n",
        "{\n",
        "  OUT[i,] = perform_fn(s[i])\n",
        "}\n",
        "\n",
        "plot(s, OUT[,1],xlab=\"Cutoff\",ylab=\"Value\",cex.lab=1.5,cex.axis=1.5,ylim=c(0,1),\n",
        "     type=\"l\",lwd=2,axes=FALSE,col=2)\n",
        "axis(1,seq(0,1,length=5),seq(0,1,length=5),cex.lab=1.5)\n",
        "axis(2,seq(0,1,length=5),seq(0,1,length=5),cex.lab=1.5)\n",
        "lines(s,OUT[,2],col=\"darkgreen\",lwd=2)\n",
        "lines(s,OUT[,3],col=4,lwd=2)\n",
        "box()\n",
        "legend(\"bottom\",col=c(2,\"darkgreen\",4,\"darkred\"),text.font =3,inset = 0.02,\n",
        "       box.lty=0,cex = 0.8,\n",
        "       lwd=c(2,2,2,2),c(\"Sensitivity\",\"Specificity\",\"Accuracy\"))\n",
        "abline(v = 0.32, col=\"red\", lwd=1, lty=2)\n",
        "axis(1, at = seq(0.1, 1, by = 0.1))\n",
        "\n",
        "#cutoff <- s[which(abs(OUT[,1]-OUT[,2])<0.01)]\n"
      ],
      "execution_count": null,
      "outputs": []
    },
    {
      "metadata": {
        "_uuid": "8459ad6fdfa4b11dbb7a31853c1f5e38b7d3a7c3",
        "id": "wW7SnNR1DDfl"
      },
      "cell_type": "markdown",
      "source": [
        "Let's choose a cutoff value of 0.32 for final model, where the three curves for accuracy, specificty and sensitivity meet"
      ]
    },
    {
      "metadata": {
        "trusted": true,
        "_uuid": "ed602ceb535d02e09c7d88739b7a556dc3d3457a",
        "id": "t5UK6NszDDfl"
      },
      "cell_type": "code",
      "source": [
        "cutoff_churn <- factor(ifelse(pred >=0.32, \"Yes\", \"No\"))\n",
        "conf_final <- confusionMatrix(cutoff_churn, actual_churn, positive = \"Yes\")\n",
        "accuracy <- conf_final$overall[1]\n",
        "sensitivity <- conf_final$byClass[1]\n",
        "specificity <- conf_final$byClass[2]\n",
        "accuracy\n",
        "sensitivity\n",
        "specificity\n"
      ],
      "execution_count": null,
      "outputs": []
    },
    {
      "metadata": {
        "_uuid": "82512650f589823723266d74f9ce696a458d4feb",
        "id": "SkZoBBy2DDfm"
      },
      "cell_type": "markdown",
      "source": [
        "Logistic Regression with a cutoff probability value of 0.32 gives us better values of accuracy, sensitivity and specificity in the validation data."
      ]
    },
    {
      "metadata": {
        "_uuid": "851c7e02c40ee50cc623a0a565fcc3ce9cbfe281",
        "id": "mH6B8NDWDDfm"
      },
      "cell_type": "markdown",
      "source": [
        "**MODEL BUILDING 2**\n",
        "\n",
        "**Decision Tree**- Splits the data into multiple sets and each set is further split into subsets to arrive at a tree like structure and make a decision. Homogeneity is the basic concept that helps to determine the attribute on which a split should be made. A split that results into the most homogenous subset is often considered better and step by step each attribute is choosen that maximizes the homogeneity of each subset. Further, this homogeneity is measured using different ways such as Gini Index, Entropy and Information Gain."
      ]
    },
    {
      "metadata": {
        "_uuid": "921ed8c069ca8c47ac4424c188c7ce290231bc30",
        "id": "9DqgXM6rDDfm"
      },
      "cell_type": "markdown",
      "source": [
        "* **Preparing the Data**"
      ]
    },
    {
      "metadata": {
        "trusted": true,
        "_uuid": "0012460be3f2d6bd720463c019fc8dfc40d1088c",
        "id": "3tQp45xtDDfm"
      },
      "cell_type": "code",
      "source": [
        "set.seed(123)\n",
        "telco_final$Churn <- as.factor(telco_final$Churn)\n",
        "\n",
        "indices = sample.split(telco_final$Churn, SplitRatio = 0.7)\n",
        "train = telco_final[indices,]\n",
        "validation = telco_final[!(indices),]"
      ],
      "execution_count": null,
      "outputs": []
    },
    {
      "metadata": {
        "_uuid": "eca348b91fd95a2a7ee9aa196cc4d80d254a7e6f",
        "id": "-Ps8hGzwDDfm"
      },
      "cell_type": "markdown",
      "source": [
        "* **Training the Decision Tree model using all variables & Predicting in the validation data**"
      ]
    },
    {
      "metadata": {
        "trusted": true,
        "_uuid": "b4751cdce96e195288803b8c79b7173c2a05d3cf",
        "id": "JOikTlqdDDfn"
      },
      "cell_type": "code",
      "source": [
        "options(repr.plot.width = 10, repr.plot.height = 8)\n",
        "library(rpart)\n",
        "library(rpart.plot)\n",
        "\n",
        "#Training\n",
        "Dtree = rpart(Churn ~., data = train, method = \"class\")\n",
        "summary(Dtree)\n",
        "\n",
        "#Predicting\n",
        "DTPred <- predict(Dtree,type = \"class\", newdata = validation[,-24])"
      ],
      "execution_count": null,
      "outputs": []
    },
    {
      "metadata": {
        "_uuid": "e47111a5199b1df96c023fea7f1f2a9f16fbcd7d",
        "id": "WGiXxwV-DDfn"
      },
      "cell_type": "markdown",
      "source": [
        "*** Checking the Confusion Matrix**"
      ]
    },
    {
      "metadata": {
        "trusted": true,
        "_uuid": "4ea2f7360e1d00c62052f7bb7512cd8bd8473343",
        "id": "KPtZvqxODDfn"
      },
      "cell_type": "code",
      "source": [
        "confusionMatrix(validation$Churn, DTPred)"
      ],
      "execution_count": null,
      "outputs": []
    },
    {
      "metadata": {
        "_uuid": "88685d22e7abf7d936a5b61d7f13259f7cff18eb",
        "id": "57z9ZX0mDDfn"
      },
      "cell_type": "markdown",
      "source": [
        "The decision tree model (accuracy - 78.1%) gives slightly better accuracy with respect to the logistic regression model (accuracy 75%). The sensitivity is also better in case of Decision tree which is 82.45%. However, the specificity has decreased to 61.38% in case of Decision Tree as compared to logistic regression model."
      ]
    },
    {
      "metadata": {
        "_uuid": "09f57f72f0ea41a83024ddde7f1b7e021f664325",
        "id": "H2SZbs6uDDfn"
      },
      "cell_type": "markdown",
      "source": [
        "**MODEL BUILDING 3:**\n",
        "\n",
        "**RANDOM FOREST**- Often known as an ensemble of a large number of Decision Trees, that uses bootstrapped aggregation technique to choose random samples from a dataset to train each tree in the forest. The final prediction in a RandomForest is an aggregation of prediction of individual trees. One of the advantages of RandomForest is that, it gives out-of-bag(OOB) error estimates, which is the mean prediction error on a training sample, using the trees that do not have that training sample in their bootstrap sample. It may act as a cross validation error and eliminate the need of using test/validation data, thereby increasing the training the data. However, I am still going to use train and validation concept here as well, like I did in the above two Models."
      ]
    },
    {
      "metadata": {
        "trusted": true,
        "_uuid": "1efca4613d12579908ef1b38f677c9b1fca513b8",
        "id": "WfDKuyS-DDfo"
      },
      "cell_type": "code",
      "source": [
        "library(randomForest)\n",
        "set.seed(123)\n",
        "telco_final$Churn <- as.factor(telco_final$Churn)\n",
        "\n",
        "indices = sample.split(telco_final$Churn, SplitRatio = 0.7)\n",
        "train = telco_final[indices,]\n",
        "validation = telco_final[!(indices),]"
      ],
      "execution_count": null,
      "outputs": []
    },
    {
      "metadata": {
        "_uuid": "2477e1498954fdac9cd95b5d2b8488e8272c8139",
        "id": "mC5VrIzaDDfo"
      },
      "cell_type": "markdown",
      "source": [
        "The OOB error estimate comes to around 20.87%, so the model has around 79% out of sample accuracy for the training set. Let's check the prediction and accuracy on our validation data."
      ]
    },
    {
      "metadata": {
        "trusted": true,
        "_uuid": "fe71aca588e0df76d9a1a15202096f01cc04b7ae",
        "id": "0S0xV4G1DDfo"
      },
      "cell_type": "code",
      "source": [
        "#Training the RandomForest Model\n",
        "\n",
        "model.rf <- randomForest(Churn ~ ., data=train, proximity=FALSE,importance = FALSE,\n",
        "                        ntree=500,mtry=4, do.trace=FALSE)\n",
        "model.rf"
      ],
      "execution_count": null,
      "outputs": []
    },
    {
      "metadata": {
        "_uuid": "5253c5b0947cd9f91f19b59898f6ca421e9ef8d3",
        "id": "GJe79_bADDfp"
      },
      "cell_type": "markdown",
      "source": [
        "The basic RandomForest model gives an accuracy of 78.86%( almost close enough to the OOB estimate),  Sensitivity 82.46% and Specificity 63.99%.,"
      ]
    },
    {
      "metadata": {
        "trusted": true,
        "_uuid": "2b957efde15aa9a4b1bf8cb6c7abdb8d9aef92dd",
        "id": "-7N01tX9DDfp"
      },
      "cell_type": "code",
      "source": [
        "#Predicting on the validation set and checking the Confusion Matrix.\n",
        "testPred <- predict(model.rf, newdata=validation[,-24])\n",
        "table(testPred, validation$Churn)\n",
        "\n",
        "confusionMatrix(validation$Churn, testPred)"
      ],
      "execution_count": null,
      "outputs": []
    },
    {
      "metadata": {
        "_uuid": "b83df07c5da5be9993e3c01e9d59ca5bacf9fce7",
        "id": "mj3Xpk56DDfp"
      },
      "cell_type": "markdown",
      "source": [
        "*Variable Importance Plot:*\n",
        "\n",
        "Below is the variable importance plot, that shows the most significant attribute in decreasing order by mean decrease in Gini. The Mean decrease Gini measures how pure the nodes are at the end of the tree. Higher the Gini Index, better is the homogeneity."
      ]
    },
    {
      "metadata": {
        "trusted": true,
        "_uuid": "628ba9fb98ebb93f9a9428e4da9d752f14f6a6f3",
        "id": "VrAxgky9DDfq"
      },
      "cell_type": "code",
      "source": [
        "#Checking the variable Importance Plot\n",
        "varImpPlot(model.rf)"
      ],
      "execution_count": null,
      "outputs": []
    },
    {
      "metadata": {
        "_uuid": "00f2826bd07bcd858d726576fcfbbfcb0e7eaa79",
        "id": "44zAESntDDfq"
      },
      "cell_type": "markdown",
      "source": [
        "**Checking the AUC for all three models:**\n",
        "\n",
        "I have referred this http://rstudio-pubs-static.s3.amazonaws.com/277278_427ca6a7ce7c4eb688506efc7a6c2435.html tutorial to make the AUC plots for all three models."
      ]
    },
    {
      "metadata": {
        "trusted": true,
        "_uuid": "09525b25a6fdc0997364398b9d53f36476494359",
        "id": "18D1Blz9DDfq"
      },
      "cell_type": "code",
      "source": [
        "options(repr.plot.width =10, repr.plot.height = 8)\n",
        "\n",
        "glm.roc <- roc(response = validation$Churn, predictor = as.numeric(pred))\n",
        "DT.roc <- roc(response = validation$Churn, predictor = as.numeric(DTPred))\n",
        "rf.roc <- roc(response = validation$Churn, predictor = as.numeric(testPred))\n",
        "\n",
        "plot(glm.roc,      legacy.axes = TRUE, print.auc.y = 1.0, print.auc = TRUE)\n",
        "plot(DT.roc, col = \"blue\", add = TRUE, print.auc.y = 0.65, print.auc = TRUE)\n",
        "plot(rf.roc, col = \"red\" , add = TRUE, print.auc.y = 0.85, print.auc = TRUE)\n",
        "legend(\"bottom\", c(\"Random Forest\", \"Decision Tree\", \"Logistic\"),\n",
        "       lty = c(1,1), lwd = c(2, 2), col = c(\"red\", \"blue\", \"black\"), cex = 0.75)"
      ],
      "execution_count": null,
      "outputs": []
    },
    {
      "metadata": {
        "_uuid": "d3ffb4865da79ea1e730bae82d8c28aabef1037e",
        "id": "xk1dGiPIDDfq"
      },
      "cell_type": "markdown",
      "source": [
        "**A brief Summary of all the models:**\n",
        "\n",
        "*Logistic Regression:*\n",
        "\n",
        "* Accuracy   75.59%,\n",
        "* Sensitivity 75.75%\n",
        "* Specificity 75.53%\n",
        "\n",
        "*DecisionTrees:*\n",
        "\n",
        "* Accuracy   78.1%,\n",
        "* Sensitivity 82.45%\n",
        "* Specificity 61.38%\n",
        "\n",
        "\n",
        "*RandomForest:*\n",
        "\n",
        "* Accuracy   78.86%,\n",
        "* Sensitivity 82.46%\n",
        "* Specificity 63.99%\n",
        "\n",
        "\n",
        "Now, I have got an idea on how these basic models work. I will try to work on improving the accuracy now.\n",
        "\n",
        "I have included a derived attribute, in the latest version, only the sensitivity and specificity of the Decision Tree model increased by around 1%."
      ]
    }
  ],
  "metadata": {
    "kernelspec": {
      "display_name": "R",
      "language": "R",
      "name": "ir"
    },
    "language_info": {
      "mimetype": "text/x-r-source",
      "name": "R",
      "pygments_lexer": "r",
      "version": "3.4.2",
      "file_extension": ".r",
      "codemirror_mode": "r"
    },
    "colab": {
      "name": "Telco Customer Churn-LogisticRegression",
      "provenance": [],
      "include_colab_link": true
    }
  },
  "nbformat": 4,
  "nbformat_minor": 0
}